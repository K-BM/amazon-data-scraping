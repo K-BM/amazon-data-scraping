{
 "cells": [
  {
   "cell_type": "code",
   "execution_count": 1,
   "id": "4ad0ec4f",
   "metadata": {},
   "outputs": [
    {
     "name": "stdout",
     "output_type": "stream",
     "text": [
      "Collecting autoscraper\n",
      "  Downloading autoscraper-1.1.14-py3-none-any.whl (10 kB)\n",
      "Collecting bs4\n",
      "  Downloading bs4-0.0.1.tar.gz (1.1 kB)\n",
      "  Preparing metadata (setup.py): started\n",
      "  Preparing metadata (setup.py): finished with status 'done'\n",
      "Requirement already satisfied: lxml in c:\\users\\utilisateur\\anaconda_3\\lib\\site-packages (from autoscraper) (4.9.1)\n",
      "Requirement already satisfied: requests in c:\\users\\utilisateur\\anaconda_3\\lib\\site-packages (from autoscraper) (2.28.1)\n",
      "Requirement already satisfied: beautifulsoup4 in c:\\users\\utilisateur\\anaconda_3\\lib\\site-packages (from bs4->autoscraper) (4.11.1)\n",
      "Requirement already satisfied: certifi>=2017.4.17 in c:\\users\\utilisateur\\anaconda_3\\lib\\site-packages (from requests->autoscraper) (2022.9.14)\n",
      "Requirement already satisfied: urllib3<1.27,>=1.21.1 in c:\\users\\utilisateur\\anaconda_3\\lib\\site-packages (from requests->autoscraper) (1.26.11)\n",
      "Requirement already satisfied: charset-normalizer<3,>=2 in c:\\users\\utilisateur\\anaconda_3\\lib\\site-packages (from requests->autoscraper) (2.0.4)\n",
      "Requirement already satisfied: idna<4,>=2.5 in c:\\users\\utilisateur\\anaconda_3\\lib\\site-packages (from requests->autoscraper) (3.3)\n",
      "Requirement already satisfied: soupsieve>1.2 in c:\\users\\utilisateur\\anaconda_3\\lib\\site-packages (from beautifulsoup4->bs4->autoscraper) (2.3.1)\n",
      "Building wheels for collected packages: bs4\n",
      "  Building wheel for bs4 (setup.py): started\n",
      "  Building wheel for bs4 (setup.py): finished with status 'done'\n",
      "  Created wheel for bs4: filename=bs4-0.0.1-py3-none-any.whl size=1257 sha256=044e2a3c275b333ad23644cb7ead98b1410ec614a6851396af933c74514677ef\n",
      "  Stored in directory: c:\\users\\utilisateur\\appdata\\local\\pip\\cache\\wheels\\73\\2b\\cb\\099980278a0c9a3e57ff1a89875ec07bfa0b6fcbebb9a8cad3\n",
      "Successfully built bs4\n",
      "Installing collected packages: bs4, autoscraper\n",
      "Successfully installed autoscraper-1.1.14 bs4-0.0.1\n"
     ]
    }
   ],
   "source": [
    "!pip install autoscraper"
   ]
  },
  {
   "cell_type": "code",
   "execution_count": 19,
   "id": "dcb6596f",
   "metadata": {},
   "outputs": [],
   "source": [
    "from autoscraper import AutoScraper"
   ]
  },
  {
   "cell_type": "code",
   "execution_count": 24,
   "id": "ffe8b0f3",
   "metadata": {},
   "outputs": [],
   "source": [
    "amazon_url='https://www.amazon.in/s?k=iphones'\n",
    "\n",
    "wanted_list=[\"₹58,400\",\"New Apple iPhone 11 (128GB) - Black\"]"
   ]
  },
  {
   "cell_type": "code",
   "execution_count": 25,
   "id": "ba3fcf1f",
   "metadata": {},
   "outputs": [],
   "source": [
    "scraper = AutoScraper()\n",
    "result = scraper.build(amazon_url,wanted_list)"
   ]
  }
 ],
 "metadata": {
  "kernelspec": {
   "display_name": "Python 3 (ipykernel)",
   "language": "python",
   "name": "python3"
  },
  "language_info": {
   "codemirror_mode": {
    "name": "ipython",
    "version": 3
   },
   "file_extension": ".py",
   "mimetype": "text/x-python",
   "name": "python",
   "nbconvert_exporter": "python",
   "pygments_lexer": "ipython3",
   "version": "3.9.13"
  }
 },
 "nbformat": 4,
 "nbformat_minor": 5
}
